{
  "nbformat": 4,
  "nbformat_minor": 0,
  "metadata": {
    "colab": {
      "name": "slackometer.ipynb",
      "provenance": [],
      "collapsed_sections": []
    },
    "kernelspec": {
      "display_name": "Python 3",
      "name": "python3"
    },
    "language_info": {
      "name": "python"
    }
  },
  "cells": [
    {
      "cell_type": "markdown",
      "metadata": {
        "id": "2kJw_fadgCTP"
      },
      "source": [
        "# Analyse slackline walking from pose data\n",
        "\n",
        "More at https://safetydave.net/project-slackpose/"
      ]
    },
    {
      "cell_type": "markdown",
      "metadata": {
        "id": "fcKTei55gLDz"
      },
      "source": [
        "# Data utilities"
      ]
    },
    {
      "cell_type": "code",
      "metadata": {
        "colab": {
          "base_uri": "https://localhost:8080/"
        },
        "id": "wu1wEK5KaZUQ",
        "outputId": "66b721f7-dc7e-4693-ff30-b321bf0137be"
      },
      "source": [
        "PROJECT_FOLDER = 'My Drive/slackpose/'\n",
        "GDRIVE_ROOT = '/content/gdrive/'\n",
        "FS_ROOT = GDRIVE_ROOT + PROJECT_FOLDER\n",
        "\n",
        "from google.colab import drive\n",
        "drive.mount(GDRIVE_ROOT)"
      ],
      "execution_count": 1,
      "outputs": [
        {
          "output_type": "stream",
          "name": "stdout",
          "text": [
            "Drive already mounted at /content/gdrive/; to attempt to forcibly remount, call drive.mount(\"/content/gdrive/\", force_remount=True).\n"
          ]
        }
      ]
    },
    {
      "cell_type": "markdown",
      "metadata": {
        "id": "zwUV4ezugN5w"
      },
      "source": [
        "Read the json output format from openpose"
      ]
    },
    {
      "cell_type": "code",
      "metadata": {
        "id": "NsG6iHdZbNGb"
      },
      "source": [
        "import glob\n",
        "import json\n",
        "\n",
        "def build_keypoints_file(file):\n",
        "  with open(file) as json_file:\n",
        "    return json.load(json_file)\n",
        "\n",
        "def build_keypoints_dir(dir, multi=False):\n",
        "  dir_list = sorted(glob.glob(dir + '*.json'))\n",
        "  keypoints_cache = []\n",
        "  for f in dir_list:\n",
        "    with open(f) as json_file:\n",
        "      data = json.load(json_file)\n",
        "      if multi:\n",
        "        keypoints_cache.extend(data)\n",
        "      else:\n",
        "        keypoints_cache.append(data)\n",
        "  return keypoints_cache\n",
        "\n",
        "def build_keypoints_dir_multi(dir):\n",
        "  return build_keypoints_dir(dir, multi=True)"
      ],
      "execution_count": 2,
      "outputs": []
    },
    {
      "cell_type": "code",
      "metadata": {
        "id": "BWOGI0Hsd7LV"
      },
      "source": [
        "def single_person_poses(kps):\n",
        "  spp = [k['people'][0]['pose_keypoints_2d'] for k in kps if len(k['people']) > 0]\n",
        "  return spp"
      ],
      "execution_count": 3,
      "outputs": []
    },
    {
      "cell_type": "markdown",
      "metadata": {
        "id": "uRZctlvVly0l"
      },
      "source": [
        "Parameters and segment connectivity of Body 25 pose format"
      ]
    },
    {
      "cell_type": "code",
      "metadata": {
        "id": "F3JK7bDzlx3j"
      },
      "source": [
        "KN = 25   # number of keypoints\n",
        "KS = 3    # step for indexing keypoints\n",
        "KT = KN * KS\n",
        "KX = 0    # offset of x coordinate\n",
        "KY = 1    # offset of y coordinate\n",
        "KC = 2    # offset of confidence coordinate"
      ],
      "execution_count": 4,
      "outputs": []
    },
    {
      "cell_type": "code",
      "metadata": {
        "id": "tU0Qij68B8QM"
      },
      "source": [
        "import numpy as np\n",
        "\n",
        "with open(FS_ROOT + 'connectivity.json') as json_file:\n",
        "  B25_CONN = json.load(json_file)\n",
        "\n",
        "B25_CONN_NP = np.array(list(B25_CONN.values()))"
      ],
      "execution_count": 5,
      "outputs": []
    },
    {
      "cell_type": "code",
      "metadata": {
        "id": "12PfdQ1bGF_A"
      },
      "source": [
        "def segments(pose, conn):\n",
        "  px = pose[KX::KS]\n",
        "  py = pose[KY::KS]\n",
        "  pc = pose[KC::KS]\n",
        "  sdx = px[conn[:,1]] - px[conn[:,0]]\n",
        "  sdy = py[conn[:,1]] - py[conn[:,0]]\n",
        "  sl = np.hypot(sdx, sdy)\n",
        "  sdc = np.minimum(pc[conn[:,1]], pc[conn[:,0]])\n",
        "  return sl, sdc"
      ],
      "execution_count": 6,
      "outputs": []
    },
    {
      "cell_type": "markdown",
      "metadata": {
        "id": "iWHy84ZrFc7T"
      },
      "source": [
        "Save plots"
      ]
    },
    {
      "cell_type": "code",
      "metadata": {
        "id": "Qe7spT3_Fec_"
      },
      "source": [
        "from pathlib import Path\n",
        "\n",
        "def put_fig(name, dir=(FS_ROOT + 'fig/')):\n",
        "  Path(dir).mkdir(parents=True, exist_ok=True)\n",
        "  plt.savefig(dir + name + '.png')\n",
        "\n",
        "def count_fig(dir=(FS_ROOT + 'fig/')):\n",
        "  return len(glob.glob(dir + '*.png'))"
      ],
      "execution_count": 7,
      "outputs": []
    },
    {
      "cell_type": "markdown",
      "metadata": {
        "id": "kcZ1PL6fgeM1"
      },
      "source": [
        "# Calibrate/train distance measurement"
      ]
    },
    {
      "cell_type": "markdown",
      "metadata": {
        "id": "NIHuZA-x6zJd"
      },
      "source": [
        "Create labelled pose data from multiple underscore-separated labels provided in filenames"
      ]
    },
    {
      "cell_type": "code",
      "metadata": {
        "id": "XNsXOx8ZTihU"
      },
      "source": [
        "import pandas as pd\n",
        "\n",
        "def build_keypoints_file_label(dir):\n",
        "  rows = []\n",
        "  dir_list = sorted(glob.glob(dir + '*.json'))\n",
        "  for f in dir_list:\n",
        "    labels = f.split('/')[-1][:-5].split('_')\n",
        "    keypoints = build_keypoints_file(f)\n",
        "    poses = single_person_poses(keypoints)\n",
        "    for p in poses:\n",
        "      p.extend(labels)\n",
        "      rows.append(pd.Series(p))\n",
        "  df = pd.DataFrame(rows)\n",
        "  drop = [c for c in df.columns[KN * KS:] if len(df[c].unique()) == 1]\n",
        "  df.drop(columns=drop, inplace=True)\n",
        "  return df "
      ],
      "execution_count": 8,
      "outputs": []
    },
    {
      "cell_type": "code",
      "metadata": {
        "colab": {
          "base_uri": "https://localhost:8080/",
          "height": 206
        },
        "id": "RIW7_DaOVxqG",
        "outputId": "401aeb93-44cb-4435-d540-47aef14c3160"
      },
      "source": [
        "calibration_path = 'kpdata/post_2/calibration/' #@param\n",
        "\n",
        "df = build_keypoints_file_label(FS_ROOT + calibration_path)\n",
        "df.iloc[:,72:].head()"
      ],
      "execution_count": 9,
      "outputs": [
        {
          "output_type": "execute_result",
          "data": {
            "text/html": [
              "<div>\n",
              "<style scoped>\n",
              "    .dataframe tbody tr th:only-of-type {\n",
              "        vertical-align: middle;\n",
              "    }\n",
              "\n",
              "    .dataframe tbody tr th {\n",
              "        vertical-align: top;\n",
              "    }\n",
              "\n",
              "    .dataframe thead th {\n",
              "        text-align: right;\n",
              "    }\n",
              "</style>\n",
              "<table border=\"1\" class=\"dataframe\">\n",
              "  <thead>\n",
              "    <tr style=\"text-align: right;\">\n",
              "      <th></th>\n",
              "      <th>72</th>\n",
              "      <th>73</th>\n",
              "      <th>74</th>\n",
              "      <th>76</th>\n",
              "      <th>77</th>\n",
              "    </tr>\n",
              "  </thead>\n",
              "  <tbody>\n",
              "    <tr>\n",
              "      <th>0</th>\n",
              "      <td>190.277</td>\n",
              "      <td>585.531</td>\n",
              "      <td>0.516073</td>\n",
              "      <td>2m</td>\n",
              "      <td>back</td>\n",
              "    </tr>\n",
              "    <tr>\n",
              "      <th>1</th>\n",
              "      <td>188.606</td>\n",
              "      <td>589.018</td>\n",
              "      <td>0.487276</td>\n",
              "      <td>2m</td>\n",
              "      <td>back</td>\n",
              "    </tr>\n",
              "    <tr>\n",
              "      <th>2</th>\n",
              "      <td>188.495</td>\n",
              "      <td>587.238</td>\n",
              "      <td>0.527500</td>\n",
              "      <td>2m</td>\n",
              "      <td>back</td>\n",
              "    </tr>\n",
              "    <tr>\n",
              "      <th>3</th>\n",
              "      <td>186.833</td>\n",
              "      <td>587.255</td>\n",
              "      <td>0.466376</td>\n",
              "      <td>2m</td>\n",
              "      <td>back</td>\n",
              "    </tr>\n",
              "    <tr>\n",
              "      <th>4</th>\n",
              "      <td>183.320</td>\n",
              "      <td>585.529</td>\n",
              "      <td>0.348276</td>\n",
              "      <td>2m</td>\n",
              "      <td>back</td>\n",
              "    </tr>\n",
              "  </tbody>\n",
              "</table>\n",
              "</div>"
            ],
            "text/plain": [
              "        72       73        74  76    77\n",
              "0  190.277  585.531  0.516073  2m  back\n",
              "1  188.606  589.018  0.487276  2m  back\n",
              "2  188.495  587.238  0.527500  2m  back\n",
              "3  186.833  587.255  0.466376  2m  back\n",
              "4  183.320  585.529  0.348276  2m  back"
            ]
          },
          "metadata": {},
          "execution_count": 9
        }
      ]
    },
    {
      "cell_type": "code",
      "metadata": {
        "id": "eqw38gvfcpOE",
        "colab": {
          "base_uri": "https://localhost:8080/"
        },
        "outputId": "50362ae2-b2d3-4ba3-f5d6-fd6313fb759f"
      },
      "source": [
        "calibration_poses = df.iloc[:,:KT].to_numpy().T\n",
        "calibration_poses.shape"
      ],
      "execution_count": 10,
      "outputs": [
        {
          "output_type": "execute_result",
          "data": {
            "text/plain": [
              "(75, 2380)"
            ]
          },
          "metadata": {},
          "execution_count": 10
        }
      ]
    },
    {
      "cell_type": "markdown",
      "metadata": {
        "id": "Qep_bEAx7CYS"
      },
      "source": [
        "Geometric calculation of distance. At approximately 265 pixels we expect to be at the 4m point from the anchor, or 3.6m from the camera"
      ]
    },
    {
      "cell_type": "code",
      "metadata": {
        "colab": {
          "base_uri": "https://localhost:8080/"
        },
        "id": "IMwkd3DXIeGR",
        "outputId": "e6c4ffea-70ee-4ef4-a66b-a34e41013cdb"
      },
      "source": [
        "EST_TOE_EYE_MM = 1650\n",
        "F_TELE_MM = 6\n",
        "IMAGE_HEIGHT_PX = 680\n",
        "SENSOR_HEIGHT_MM = 7.01\n",
        "GEOMETRY_FACTOR = EST_TOE_EYE_MM * F_TELE_MM * IMAGE_HEIGHT_PX / SENSOR_HEIGHT_MM\n",
        "\n",
        "def distance_geometry(v_ext_px):\n",
        "  return GEOMETRY_FACTOR / v_ext_px\n",
        "\n",
        "distance_geometry(265)"
      ],
      "execution_count": 11,
      "outputs": [
        {
          "output_type": "execute_result",
          "data": {
            "text/plain": [
              "3623.933464323204"
            ]
          },
          "metadata": {},
          "execution_count": 11
        }
      ]
    },
    {
      "cell_type": "markdown",
      "metadata": {
        "id": "6gNo-_Jr7fK9"
      },
      "source": [
        "Regression calculation of distance"
      ]
    },
    {
      "cell_type": "code",
      "metadata": {
        "id": "nd8o19rjVvyI"
      },
      "source": [
        "def valid_min(pose):\n",
        "  py = pose[KY::KS]\n",
        "  valid_py = py[py != 0]\n",
        "  return np.min(valid_py)\n",
        "\n",
        "def valid_max(pose):\n",
        "  py = pose[KY::KS]\n",
        "  valid_py = py[py != 0]\n",
        "  return np.max(valid_py)\n",
        "\n",
        "def vertical_extent(pose):\n",
        "  return valid_max(pose) - valid_min(pose)"
      ],
      "execution_count": 12,
      "outputs": []
    },
    {
      "cell_type": "code",
      "metadata": {
        "colab": {
          "base_uri": "https://localhost:8080/",
          "height": 281
        },
        "id": "Qv6VneyeWyAc",
        "outputId": "8a317a21-7149-4cdb-d4cb-9614803ef474"
      },
      "source": [
        "import matplotlib as mpl\n",
        "import matplotlib.pyplot as plt\n",
        "\n",
        "plt.style.use('dark_background')\n",
        "\n",
        "v_ext_calibration = np.apply_along_axis(vertical_extent, axis=0, arr=calibration_poses)\n",
        "# note that the camera is 400mm in from the anchor point\n",
        "CAMERA_ANCHOR_OFFSET = 400\n",
        "distances = np.array([int(s[:-1]) for s in df.iloc[:, 75]]) * 1000 - CAMERA_ANCHOR_OFFSET\n",
        "\n",
        "fig, ax = plt.subplots(1, 3)\n",
        "fig.set_figwidth(15)\n",
        "ax[0].scatter(range(calibration_poses.shape[1]), v_ext_calibration, c='deepskyblue', alpha=0.2)\n",
        "ax[0].set_title('vertical extent vs sample')\n",
        "ax[1].scatter(range(calibration_poses.shape[1]), 1 / distances, c='orangered', alpha=0.2)\n",
        "ax[1].set_title('reciprocal distance vs sample')\n",
        "ax[2].scatter(v_ext_calibration, 1 / distances, c='violet', alpha=0.2)\n",
        "ax[2].set_title('reciprocal distance vs vertical extent')\n",
        "plt.show()"
      ],
      "execution_count": 13,
      "outputs": [
        {
          "output_type": "display_data",
          "data": {
            "image/png": "[encoded data removed]",
            "text/plain": [
              "<Figure size 1080x288 with 3 Axes>"
            ]
          },
          "metadata": {}
        }
      ]
    },
    {
      "cell_type": "code",
      "metadata": {
        "id": "XqcA3n1yaLhA"
      },
      "source": [
        "from sklearn.linear_model import LinearRegression\n",
        "\n",
        "X = v_ext_calibration.reshape((-1, 1))\n",
        "y = 1 / distances\n",
        "\n",
        "DISTANCE_LR_PREDICTOR = LinearRegression(fit_intercept=False).fit(X, y)"
      ],
      "execution_count": 14,
      "outputs": []
    },
    {
      "cell_type": "code",
      "metadata": {
        "colab": {
          "base_uri": "https://localhost:8080/"
        },
        "id": "bDygVj_VId-J",
        "outputId": "57698c2e-2559-422d-c5e5-f69dc77b4ac2"
      },
      "source": [
        "def distance_lr(v_ext_px):\n",
        "  return 1 / DISTANCE_LR_PREDICTOR.predict(v_ext_px)\n",
        "\n",
        "distance_lr([[256]])[0]"
      ],
      "execution_count": 15,
      "outputs": [
        {
          "output_type": "execute_result",
          "data": {
            "text/plain": [
              "3706.8341926971434"
            ]
          },
          "metadata": {},
          "execution_count": 15
        }
      ]
    },
    {
      "cell_type": "markdown",
      "metadata": {
        "id": "OZ642_MF7jWB"
      },
      "source": [
        "Compare the two pinhole factors derived from geometry and regression"
      ]
    },
    {
      "cell_type": "code",
      "metadata": {
        "colab": {
          "base_uri": "https://localhost:8080/"
        },
        "id": "UWIb8cwdmQYl",
        "outputId": "0e5dc315-b3c8-4eda-f13a-7a0106fb67af"
      },
      "source": [
        "GEOMETRY_FACTOR, 1 / DISTANCE_LR_PREDICTOR.coef_[0]"
      ],
      "execution_count": 16,
      "outputs": [
        {
          "output_type": "execute_result",
          "data": {
            "text/plain": [
              "(960342.3680456491, 948949.5533304687)"
            ]
          },
          "metadata": {},
          "execution_count": 16
        }
      ]
    },
    {
      "cell_type": "markdown",
      "metadata": {
        "id": "DRL7s5xs6p1i"
      },
      "source": [
        "# Visualise poses"
      ]
    },
    {
      "cell_type": "code",
      "metadata": {
        "id": "vtnIY98hi3AE"
      },
      "source": [
        "IMG_WIDTH = 383\n",
        "IMG_HEIGHT = 680\n",
        "FIG_WIDTH = IMG_WIDTH / 100.0\n",
        "FIG_HEIGHT = IMG_HEIGHT / 100.0"
      ],
      "execution_count": 17,
      "outputs": []
    },
    {
      "cell_type": "code",
      "metadata": {
        "id": "WExD4sHoglgb"
      },
      "source": [
        "def plot_segments(ax, pose):\n",
        "  seg_denom = len(B25_CONN) - 1.0\n",
        "  for i, s in enumerate(B25_CONN.values()):\n",
        "    a = s[0] * KS\n",
        "    b = s[1] * KS\n",
        "    if pose[a + KC] == 0 or pose[b + KC] == 0:\n",
        "      continue\n",
        "    xs = [a + KX, b + KX]\n",
        "    ys = [a + KY, b + KY]\n",
        "    ax.plot(pose[xs], IMG_HEIGHT - pose[ys], color=mpl.cm.hsv(i / seg_denom), lw=2)\n",
        "  ax.set_xlim((0, IMG_WIDTH))\n",
        "  ax.set_ylim((0, IMG_HEIGHT))  "
      ],
      "execution_count": 18,
      "outputs": []
    },
    {
      "cell_type": "markdown",
      "metadata": {
        "id": "8NbDbOzEl8y_"
      },
      "source": [
        "# Infer distance"
      ]
    },
    {
      "cell_type": "markdown",
      "metadata": {
        "id": "UyTEpodG7y2n"
      },
      "source": [
        "Load another set of pose data"
      ]
    },
    {
      "cell_type": "code",
      "metadata": {
        "colab": {
          "base_uri": "https://localhost:8080/"
        },
        "id": "uJawSBclUiuo",
        "outputId": "4723ef70-1789-497e-ac76-0d13bf3d1963"
      },
      "source": [
        "keypoints_path = 'kpdata/post_2/octopus/' #@param\n",
        "method_type = 'dir_multi' #@param ['file', 'dir', 'dir_multi']\n",
        "slice_start = 2000 #@param\n",
        "slice_end = 5700 #@param\n",
        "\n",
        "build_method_name = 'build_keypoints_' + method_type\n",
        "build_method = locals()[build_method_name]\n",
        "keypoints = build_method(FS_ROOT + keypoints_path)\n",
        "poses_all = np.array(single_person_poses(keypoints)).T\n",
        "poses = poses_all[:,slice_start:slice_end]\n",
        "poses.shape"
      ],
      "execution_count": 19,
      "outputs": [
        {
          "output_type": "execute_result",
          "data": {
            "text/plain": [
              "(75, 3700)"
            ]
          },
          "metadata": {},
          "execution_count": 19
        }
      ]
    },
    {
      "cell_type": "code",
      "metadata": {
        "id": "svmHfxuQdQFz"
      },
      "source": [
        "# thanks again Jaime from stackoverflow\n",
        "def moving_average(a, n=3) :\n",
        "    ret = np.cumsum(a, dtype=float)\n",
        "    ret[n:] = ret[n:] - ret[:-n]\n",
        "    return ret[n - 1:] / n"
      ],
      "execution_count": 20,
      "outputs": []
    },
    {
      "cell_type": "code",
      "metadata": {
        "id": "RFae34SydhGs"
      },
      "source": [
        "smoothing = 200 #@param\n",
        "\n",
        "vertical_extents = np.apply_along_axis(vertical_extent, axis=0, arr=poses)\n",
        "smoothed_vertical_extents = moving_average(vertical_extents, n=smoothing)"
      ],
      "execution_count": 21,
      "outputs": []
    },
    {
      "cell_type": "markdown",
      "metadata": {
        "id": "arzRcGOc7-7W"
      },
      "source": [
        "Visualise this pose data and inferred distance"
      ]
    },
    {
      "cell_type": "code",
      "metadata": {
        "colab": {
          "base_uri": "https://localhost:8080/",
          "height": 418
        },
        "id": "id-_2EPv2Ac9",
        "outputId": "794c4bd1-70f1-43a3-d290-b097d829dda3"
      },
      "source": [
        "fig = plt.figure(figsize=(FIG_WIDTH, FIG_HEIGHT))\n",
        "ax = fig.add_subplot()\n",
        "pose_v_ext = poses[:, slice_end - slice_start - smoothing - 1]\n",
        "plot_segments(ax, pose_v_ext)\n",
        "ax.plot([IMG_WIDTH / 4, IMG_WIDTH / 4],\n",
        "        [IMG_HEIGHT - valid_min(pose_v_ext), IMG_HEIGHT - valid_max(pose_v_ext)],\n",
        "        '-o', color='white')\n",
        "ax.text(IMG_WIDTH / 4, IMG_HEIGHT - valid_max(pose_v_ext) - 30, \"vertical extent\")\n",
        "plt.show()"
      ],
      "execution_count": 22,
      "outputs": [
        {
          "output_type": "display_data",
          "data": {
            "image/png": "[encoded data removed]",
            "text/plain": [
              "<Figure size 275.76x489.6 with 1 Axes>"
            ]
          },
          "metadata": {}
        }
      ]
    },
    {
      "cell_type": "code",
      "metadata": {
        "colab": {
          "base_uri": "https://localhost:8080/",
          "height": 281
        },
        "id": "KIULOmpRCvLZ",
        "outputId": "a9d889a6-81eb-4bf7-fd5d-654c5bf28c09"
      },
      "source": [
        "def plot_vertical_extents(ax, raw, smoothed, marker):\n",
        "  sl = smoothed.shape[0]\n",
        "  ax.plot(raw[:sl], color='indigo', zorder=1)\n",
        "  ax.scatter(marker, raw[marker], s=150, color='indigo', zorder=1)\n",
        "  ax.plot(smoothed, color='palegreen', lw=2, zorder=2)\n",
        "  ax.scatter(marker, smoothed[marker], s=150, color='palegreen', zorder=2)\n",
        "  ax.set_title('body height [pixels]')\n",
        "  ax.legend(['raw', 'smooth'])\n",
        "  ax.set_ylim((0, IMG_HEIGHT))\n",
        "  #ax.set_yticks([])\n",
        "  #ax.set_xticks([])\n",
        "\n",
        "fig = plt.figure()\n",
        "ax = fig.add_subplot()\n",
        "plot_vertical_extents(ax, vertical_extents, smoothed_vertical_extents, 1000)\n",
        "plt.show()"
      ],
      "execution_count": 23,
      "outputs": [
        {
          "output_type": "display_data",
          "data": {
            "image/png": "[encoded data removed]",
            "text/plain": [
              "<Figure size 432x288 with 1 Axes>"
            ]
          },
          "metadata": {}
        }
      ]
    },
    {
      "cell_type": "code",
      "metadata": {
        "colab": {
          "base_uri": "https://localhost:8080/",
          "height": 281
        },
        "id": "MJWmb0u3eDW6",
        "outputId": "8bf1fb25-9ac8-45fd-8a9c-b09e450378d4"
      },
      "source": [
        "smoothed_distance = distance_lr(smoothed_vertical_extents.reshape((-1,1)))\n",
        "cumulative_distance = np.cumsum(np.abs(np.diff(smoothed_distance)))\n",
        "\n",
        "def plot_distances(ax, smoothed, cumulative, marker):\n",
        "  ax.plot(smoothed, color='aquamarine', lw=2, zorder=1)\n",
        "  ax.scatter(marker, smoothed[marker], s=150, color='aquamarine', zorder=1)\n",
        "  ax.plot(cumulative, color='deeppink', lw=2, zorder=2)\n",
        "  ax.scatter(marker, cumulative[marker], s=150, color='deeppink', zorder=2)\n",
        "  ax.set_title('inferred distance [mm]')\n",
        "  ax.legend(['current', 'cumul'])\n",
        "  #ax.set_xticks([])\n",
        "  #ax.set_yticks([])\n",
        "\n",
        "fig = plt.figure()\n",
        "ax = fig.add_subplot()\n",
        "plot_distances(ax, smoothed_distance, cumulative_distance, 1000)\n",
        "plt.show()"
      ],
      "execution_count": 24,
      "outputs": [
        {
          "output_type": "display_data",
          "data": {
            "image/png": "[encoded data removed]",
            "text/plain": [
              "<Figure size 432x288 with 1 Axes>"
            ]
          },
          "metadata": {}
        }
      ]
    },
    {
      "cell_type": "code",
      "metadata": {
        "colab": {
          "base_uri": "https://localhost:8080/"
        },
        "id": "yDEADyamvb0c",
        "outputId": "d27dcd72-2174-458c-cf14-9c9090ee4c1a"
      },
      "source": [
        "max(smoothed_distance)"
      ],
      "execution_count": 25,
      "outputs": [
        {
          "output_type": "execute_result",
          "data": {
            "text/plain": [
              "6925.464274020007"
            ]
          },
          "metadata": {},
          "execution_count": 25
        }
      ]
    },
    {
      "cell_type": "markdown",
      "metadata": {
        "id": "2mCDF84atQll"
      },
      "source": [
        "# Odometer"
      ]
    },
    {
      "cell_type": "markdown",
      "metadata": {
        "id": "Q_fywyzJ8Fgo"
      },
      "source": [
        "Odometer visualisation code inlined from https://github.com/safetydave/maths-whimsy/blob/main/vis/odometer.ipynb"
      ]
    },
    {
      "cell_type": "code",
      "metadata": {
        "id": "FLBoA_NoriPk"
      },
      "source": [
        "BASE = 10\n",
        "DIGITS = np.roll(np.arange(BASE), 1)\n",
        "WINDOW = 3\n",
        "\n",
        "def display_window(target):\n",
        "  return np.roll(DIGITS, -target)[:WINDOW]\n",
        "\n",
        "def ease_quart(x):\n",
        "  def ease_in(x):   return 8 * np.power(x, 4)\n",
        "  def ease_out(x):  return 1 - np.power(-2 * x + 2, 4) / 2\n",
        "  return np.piecewise(x, [x < 0.5, x >= 0.5], [ease_in, ease_out])\n",
        "\n",
        "def ease_quad(x):\n",
        "  def ease_in(x):   return 2 * np.power(x, 2)\n",
        "  def ease_out(x):  return 1 - np.power(-2 * x + 2, 2) / 2\n",
        "  return np.piecewise(x, [x < 0.5, x >= 0.5], [ease_in, ease_out])\n",
        "\n",
        "def transfer(x, start=0.85):\n",
        "  return np.piecewise(x,\n",
        "                      [x < start, x >= start],\n",
        "                      [0, lambda x: ease_quart((x - start) / (1 - start))])"
      ],
      "execution_count": 26,
      "outputs": []
    },
    {
      "cell_type": "code",
      "metadata": {
        "id": "ybBQtV0staLq"
      },
      "source": [
        "OFFSET_FACTOR = 0.5\n",
        "\n",
        "def odometer_values(x, max_wheel, min_wheel):\n",
        "  offset = 0\n",
        "  dws = np.zeros((max_wheel - min_wheel, WINDOW), dtype=int)\n",
        "  offs = np.zeros(max_wheel - min_wheel)\n",
        "  for i in range(min_wheel, max_wheel):\n",
        "    # calculate nominal display digits and rotation offset\n",
        "    place = pow(BASE, i)\n",
        "    value = (x % place) / place\n",
        "    rotation = value * BASE\n",
        "    digit = int(rotation)\n",
        "    adjust = OFFSET_FACTOR * offset\n",
        "    remainder = (int(BASE * (rotation % 1)) + adjust) / BASE\n",
        "    offset = remainder if i == min_wheel else transfer(remainder)\n",
        "    # assign digits and offset\n",
        "    dws[i - min_wheel,:] = display_window(digit)\n",
        "    offs[i - min_wheel] = offset\n",
        "  return dws, offs"
      ],
      "execution_count": 27,
      "outputs": []
    },
    {
      "cell_type": "code",
      "metadata": {
        "id": "JT254gqVtdLa"
      },
      "source": [
        "import math\n",
        "\n",
        "WHEELS = 6\n",
        "BG_STEPS = 20\n",
        "DIGIT_HEIGHT = 3 * BG_STEPS / 2\n",
        "DIGIT_BASELINE = 3\n",
        "DIGIT_SPACING = DIGIT_HEIGHT / 2\n",
        "BG_SHADE_RANGE = 0.125\n",
        "BG_Y = np.linspace(-1, 1, BG_STEPS, endpoint=True)\n",
        "BG_V = np.cos(2 * math.pi * BG_SHADE_RANGE * BG_Y)\n",
        "BG_M = np.stack([BG_V] * WHEELS).T\n",
        "DIGIT_H_SHIFT = -1.2\n",
        "LINE_H_SHIFT = 0.7"
      ],
      "execution_count": 28,
      "outputs": []
    },
    {
      "cell_type": "code",
      "metadata": {
        "id": "jZldSSPYtkyp"
      },
      "source": [
        "def plot_odometer(ax, values):\n",
        "  ax.imshow(BG_M, origin='lower', aspect=(1.0 / BG_STEPS), cmap=\"Greys\", vmin=0, vmax=1)\n",
        "  ax.axis('off')\n",
        "  dws = values[0]\n",
        "  offs = values[1]\n",
        "  for i in range(dws.shape[0]):\n",
        "    hpos = dws.shape[0] + DIGIT_H_SHIFT - i\n",
        "    vpos = DIGIT_BASELINE + DIGIT_SPACING * offs[i]\n",
        "    ax.text(hpos, vpos + DIGIT_SPACING, dws[i, 0], fontsize=DIGIT_HEIGHT, clip_on=True)\n",
        "    ax.text(hpos, vpos, dws[i, 1], fontsize=DIGIT_HEIGHT, clip_on=True)\n",
        "    ax.text(hpos, vpos - DIGIT_SPACING, dws[i, 2], fontsize=DIGIT_HEIGHT, clip_on=True)\n",
        "    if i > 0:\n",
        "      lpos = hpos + LINE_H_SHIFT\n",
        "      ax.plot([lpos, lpos], [0, BG_STEPS - 1], color='black')"
      ],
      "execution_count": 29,
      "outputs": []
    },
    {
      "cell_type": "code",
      "metadata": {
        "id": "-F-V2kNrtn9z"
      },
      "source": [
        "def odometer(ax, x, max_wheel=(WHEELS + 1), min_wheel=1):\n",
        "  return plot_odometer(ax, odometer_values(x, max_wheel, min_wheel))"
      ],
      "execution_count": 30,
      "outputs": []
    },
    {
      "cell_type": "code",
      "metadata": {
        "colab": {
          "base_uri": "https://localhost:8080/",
          "height": 0
        },
        "id": "cCUeRtbotqUH",
        "outputId": "7e980810-ad4b-46ca-e028-0163e583de19"
      },
      "source": [
        "fig = plt.figure()\n",
        "ax = fig.add_subplot()\n",
        "odometer(ax, cumulative_distance[1000])\n",
        "plt.show()"
      ],
      "execution_count": 31,
      "outputs": [
        {
          "output_type": "display_data",
          "data": {
            "image/png": "[encoded data removed]",
            "text/plain": [
              "<Figure size 432x288 with 1 Axes>"
            ]
          },
          "metadata": {}
        }
      ]
    },
    {
      "cell_type": "markdown",
      "metadata": {
        "id": "slKfM6GIt-lB"
      },
      "source": [
        "# Animated distance measure"
      ]
    },
    {
      "cell_type": "markdown",
      "metadata": {
        "id": "Uo5V-8XR8LxA"
      },
      "source": [
        "Render a bunch of charts to animate into video"
      ]
    },
    {
      "cell_type": "code",
      "metadata": {
        "id": "bpBOUVtNuR0W"
      },
      "source": [
        "timesteps = slice_end - slice_start - smoothing\n",
        "timesteps_test = 10\n",
        "\n",
        "for i in range(timesteps_test):\n",
        "  fig = plt.figure(figsize=(FIG_WIDTH, FIG_HEIGHT))\n",
        "  ax1 = fig.add_subplot(311)\n",
        "  ax2 = fig.add_subplot(312)\n",
        "  ax3 = fig.add_subplot(313)\n",
        "  plot_vertical_extents(ax1, vertical_extents, smoothed_vertical_extents, i)\n",
        "  plot_distances(ax2, smoothed_distance, cumulative_distance, i)\n",
        "  odometer(ax3, cumulative_distance[i])\n",
        "  ax3.set_title('slackometer [mm]')\n",
        "  #plt.show()\n",
        "  put_fig(f'dist_{i:04}', dir=(FS_ROOT + 'dist_fig/'))\n",
        "  plt.close()"
      ],
      "execution_count": 32,
      "outputs": []
    }
  ]
}